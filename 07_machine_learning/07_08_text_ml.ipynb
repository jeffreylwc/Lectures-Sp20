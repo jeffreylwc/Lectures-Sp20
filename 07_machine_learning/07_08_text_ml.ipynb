{
 "cells": [
  {
   "cell_type": "markdown",
   "metadata": {
    "slideshow": {
     "slide_type": "slide"
    }
   },
   "source": [
    "# Machine Learning in Python\n",
    "\n",
    "- scikit-learn (`sklearn`)\n",
    "    - Data Partitioning\n",
    "    - Feature selection\n",
    "    - Modeling: SVM\n",
    "    - Model Assessment\n"
   ]
  },
  {
   "cell_type": "markdown",
   "metadata": {
    "slideshow": {
     "slide_type": "notes"
    }
   },
   "source": [
    "For more reading on scikit-learn (`sklearn`) and machine learning in Python: https://scikit-learn.org/stable/index.html"
   ]
  },
  {
   "cell_type": "markdown",
   "metadata": {
    "slideshow": {
     "slide_type": "slide"
    }
   },
   "source": [
    "# Machine Learning: General Steps\n",
    "\n",
    "1. Data Partitioning\n",
    "2. Feature Selection\n",
    "3. Model\n",
    "4. Model Assessment"
   ]
  },
  {
   "cell_type": "markdown",
   "metadata": {
    "slideshow": {
     "slide_type": "slide"
    }
   },
   "source": [
    "## Setup"
   ]
  },
  {
   "cell_type": "code",
   "execution_count": 1,
   "metadata": {
    "slideshow": {
     "slide_type": "-"
    }
   },
   "outputs": [],
   "source": [
    "# import ds/plotting packages\n",
    "import numpy as np\n",
    "import pandas as pd\n",
    "import matplotlib.pyplot as plt\n",
    "import seaborn as sns\n",
    "\n",
    "# Import nltk package \n",
    "import nltk\n",
    "from nltk.tokenize import word_tokenize\n",
    "from nltk.corpus import stopwords\n",
    "\n",
    "# import random for randomizing\n",
    "import random\n",
    "\n",
    "# scikit-learn imports\n",
    "from sklearn.svm import SVC\n",
    "from sklearn.feature_extraction.text import TfidfVectorizer\n",
    "from sklearn.metrics import classification_report, precision_recall_fscore_support"
   ]
  },
  {
   "cell_type": "code",
   "execution_count": null,
   "metadata": {
    "slideshow": {
     "slide_type": "fragment"
    }
   },
   "outputs": [],
   "source": [
    "# Uncomment if you need to download the NLTK English tokenizer and the stopwords of all languages\n",
    "# nltk.download('punkt')\n",
    "# nltk.download('stopwords')"
   ]
  },
  {
   "cell_type": "markdown",
   "metadata": {
    "slideshow": {
     "slide_type": "slide"
    }
   },
   "source": [
    "# Example: Class Responses"
   ]
  },
  {
   "cell_type": "markdown",
   "metadata": {
    "slideshow": {
     "slide_type": "slide"
    }
   },
   "source": [
    "## Data"
   ]
  },
  {
   "cell_type": "markdown",
   "metadata": {
    "slideshow": {
     "slide_type": "-"
    }
   },
   "source": [
    "Student responses on COGS 108 Mid-course survey to the following two questions: \n",
    "\n",
    "- What have you enjoyed MOST about COGS 108 so far? Please explain.\n",
    "- What have you enjoyed LEAST about COGS 108 so far? Please explain."
   ]
  },
  {
   "cell_type": "code",
   "execution_count": 2,
   "metadata": {
    "scrolled": true,
    "slideshow": {
     "slide_type": "fragment"
    }
   },
   "outputs": [
    {
     "data": {
      "text/html": [
       "<div>\n",
       "<style scoped>\n",
       "    .dataframe tbody tr th:only-of-type {\n",
       "        vertical-align: middle;\n",
       "    }\n",
       "\n",
       "    .dataframe tbody tr th {\n",
       "        vertical-align: top;\n",
       "    }\n",
       "\n",
       "    .dataframe thead th {\n",
       "        text-align: right;\n",
       "    }\n",
       "</style>\n",
       "<table border=\"1\" class=\"dataframe\">\n",
       "  <thead>\n",
       "    <tr style=\"text-align: right;\">\n",
       "      <th></th>\n",
       "      <th>response</th>\n",
       "      <th>most_least</th>\n",
       "      <th>quarter</th>\n",
       "    </tr>\n",
       "  </thead>\n",
       "  <tbody>\n",
       "    <tr>\n",
       "      <th>0</th>\n",
       "      <td>No tests, project based class, optional lectur...</td>\n",
       "      <td>1</td>\n",
       "      <td>sp19</td>\n",
       "    </tr>\n",
       "    <tr>\n",
       "      <th>1</th>\n",
       "      <td>I enjoy learning how to use pandas through the...</td>\n",
       "      <td>1</td>\n",
       "      <td>sp19</td>\n",
       "    </tr>\n",
       "    <tr>\n",
       "      <th>2</th>\n",
       "      <td>No attendance</td>\n",
       "      <td>1</td>\n",
       "      <td>sp19</td>\n",
       "    </tr>\n",
       "    <tr>\n",
       "      <th>3</th>\n",
       "      <td>Topics about how to handle several Python tools</td>\n",
       "      <td>1</td>\n",
       "      <td>sp19</td>\n",
       "    </tr>\n",
       "    <tr>\n",
       "      <th>4</th>\n",
       "      <td>I like the assignments. They're fun and have a...</td>\n",
       "      <td>1</td>\n",
       "      <td>sp19</td>\n",
       "    </tr>\n",
       "  </tbody>\n",
       "</table>\n",
       "</div>"
      ],
      "text/plain": [
       "                                            response  most_least quarter\n",
       "0  No tests, project based class, optional lectur...           1    sp19\n",
       "1  I enjoy learning how to use pandas through the...           1    sp19\n",
       "2                                      No attendance           1    sp19\n",
       "3    Topics about how to handle several Python tools           1    sp19\n",
       "4  I like the assignments. They're fun and have a...           1    sp19"
      ]
     },
     "execution_count": 2,
     "metadata": {},
     "output_type": "execute_result"
    }
   ],
   "source": [
    "# read data in\n",
    "# 1 = most; 0 = least\n",
    "df = pd.read_csv('https://raw.githubusercontent.com/shanellis/datasets/master/COGS108_ml.csv', encoding=\"ISO-8859-1\")\n",
    "df.head()"
   ]
  },
  {
   "cell_type": "code",
   "execution_count": 3,
   "metadata": {
    "scrolled": true,
    "slideshow": {
     "slide_type": "-"
    }
   },
   "outputs": [
    {
     "data": {
      "text/html": [
       "<div>\n",
       "<style scoped>\n",
       "    .dataframe tbody tr th:only-of-type {\n",
       "        vertical-align: middle;\n",
       "    }\n",
       "\n",
       "    .dataframe tbody tr th {\n",
       "        vertical-align: top;\n",
       "    }\n",
       "\n",
       "    .dataframe thead th {\n",
       "        text-align: right;\n",
       "    }\n",
       "</style>\n",
       "<table border=\"1\" class=\"dataframe\">\n",
       "  <thead>\n",
       "    <tr style=\"text-align: right;\">\n",
       "      <th></th>\n",
       "      <th>response</th>\n",
       "      <th>most_least</th>\n",
       "      <th>quarter</th>\n",
       "    </tr>\n",
       "  </thead>\n",
       "  <tbody>\n",
       "    <tr>\n",
       "      <th>0</th>\n",
       "      <td>There isn't really anything I would change.</td>\n",
       "      <td>0</td>\n",
       "      <td>sp20</td>\n",
       "    </tr>\n",
       "    <tr>\n",
       "      <th>1</th>\n",
       "      <td>Lectures are interesting.</td>\n",
       "      <td>1</td>\n",
       "      <td>sp19</td>\n",
       "    </tr>\n",
       "    <tr>\n",
       "      <th>2</th>\n",
       "      <td>The first two assignments have been a bit tedi...</td>\n",
       "      <td>0</td>\n",
       "      <td>sp20</td>\n",
       "    </tr>\n",
       "    <tr>\n",
       "      <th>3</th>\n",
       "      <td>the project is really open ended and working w...</td>\n",
       "      <td>0</td>\n",
       "      <td>sp19</td>\n",
       "    </tr>\n",
       "    <tr>\n",
       "      <th>4</th>\n",
       "      <td>I love how the class is 1/2 programming and 1/...</td>\n",
       "      <td>1</td>\n",
       "      <td>sp20</td>\n",
       "    </tr>\n",
       "  </tbody>\n",
       "</table>\n",
       "</div>"
      ],
      "text/plain": [
       "                                            response  most_least quarter\n",
       "0       There isn't really anything I would change.            0    sp20\n",
       "1                          Lectures are interesting.           1    sp19\n",
       "2  The first two assignments have been a bit tedi...           0    sp20\n",
       "3  the project is really open ended and working w...           0    sp19\n",
       "4  I love how the class is 1/2 programming and 1/...           1    sp20"
      ]
     },
     "execution_count": 3,
     "metadata": {},
     "output_type": "execute_result"
    }
   ],
   "source": [
    "# randomly sort data frame\n",
    "df = df.sample(frac=1, random_state=200).reset_index(drop=True)\n",
    "df.head()"
   ]
  },
  {
   "cell_type": "markdown",
   "metadata": {
    "slideshow": {
     "slide_type": "fragment"
    }
   },
   "source": [
    "Randomly sorted data frame:\n",
    "- for selection of training and test set\n",
    "- will be approximately balanced between outcomes in each"
   ]
  },
  {
   "cell_type": "code",
   "execution_count": 4,
   "metadata": {
    "scrolled": true,
    "slideshow": {
     "slide_type": "fragment"
    }
   },
   "outputs": [
    {
     "data": {
      "text/plain": [
       "(1837, 3)"
      ]
     },
     "execution_count": 4,
     "metadata": {},
     "output_type": "execute_result"
    }
   ],
   "source": [
    "# see how much data we're working with\n",
    "df.shape"
   ]
  },
  {
   "cell_type": "markdown",
   "metadata": {
    "slideshow": {
     "slide_type": "slide"
    }
   },
   "source": [
    "### Train, Test, Validate\n",
    "\n",
    "- We'll train the model on 80% of the responses from last two quarter's survey\n",
    "- We'll test the model on the 20% we've held out\n",
    "- We'll validate the model on this quarter's responses"
   ]
  },
  {
   "cell_type": "code",
   "execution_count": 5,
   "metadata": {
    "slideshow": {
     "slide_type": "fragment"
    }
   },
   "outputs": [],
   "source": [
    "## Train/Test\n",
    "df_traintest = df[(df['quarter']=='sp19') | (df['quarter']=='wi20')]\n",
    "\n",
    "## Validation\n",
    "df_validation = df[df['quarter']=='sp20']"
   ]
  },
  {
   "cell_type": "markdown",
   "metadata": {
    "slideshow": {
     "slide_type": "-"
    }
   },
   "source": [
    "Number of Responses (total across most/least):\n",
    "- train/test (1123)\n",
    "    - Sp19: 631\n",
    "    - Wi20: 492\n",
    "- validate:\n",
    "    - Sp20: 715"
   ]
  },
  {
   "cell_type": "markdown",
   "metadata": {
    "slideshow": {
     "slide_type": "slide"
    }
   },
   "source": [
    "## Prediction Task: \n",
    "\n",
    "**Classify text from students as 'most liked' or 'least liked'**"
   ]
  },
  {
   "cell_type": "markdown",
   "metadata": {
    "slideshow": {
     "slide_type": "-"
    }
   },
   "source": [
    "#### 11 Steps to Prediction:\n",
    "\n",
    "1. Specify parameters for TF-IDF calculation\n",
    "2. Calculate TF-IDF from text input (predictors)\n",
    "3. Extract most or least (outcome)\n",
    "4. Specify how data will be partitioned\n",
    "5. Partition the data\n",
    "6. Train model\n",
    "7. Predict in training\n",
    "8. Predict in testing\n",
    "9. Assess accuracy in training\n",
    "10. Assess accuracy in test set\n",
    "11. Assess accuracy in validation set"
   ]
  },
  {
   "cell_type": "markdown",
   "metadata": {
    "slideshow": {
     "slide_type": "slide"
    }
   },
   "source": [
    "### Data Processing"
   ]
  },
  {
   "cell_type": "markdown",
   "metadata": {
    "slideshow": {
     "slide_type": "fragment"
    }
   },
   "source": [
    "Step 1: Determine how you'll convert a collection of raw documents to a matrix of TF-IDF features."
   ]
  },
  {
   "cell_type": "code",
   "execution_count": 7,
   "metadata": {
    "slideshow": {
     "slide_type": "fragment"
    }
   },
   "outputs": [],
   "source": [
    "# Create vectorizer & specify parameters\n",
    "tfidf = TfidfVectorizer(sublinear_tf=True, #apply sublinear TF scaling\n",
    "                        analyzer='word',   #specify tokenizer\n",
    "                        max_features=500, # specify max # of features to include\n",
    "                        tokenizer=word_tokenize)"
   ]
  },
  {
   "cell_type": "markdown",
   "metadata": {
    "slideshow": {
     "slide_type": "notes"
    }
   },
   "source": [
    "* sublinear TF scaling - replaces term frequency (TF) with $1 + log(TF)$"
   ]
  },
  {
   "cell_type": "markdown",
   "metadata": {
    "slideshow": {
     "slide_type": "fragment"
    }
   },
   "source": [
    "Step 2: Generate matrix of TF-IDF features."
   ]
  },
  {
   "cell_type": "code",
   "execution_count": 8,
   "metadata": {
    "scrolled": true,
    "slideshow": {
     "slide_type": "fragment"
    }
   },
   "outputs": [
    {
     "name": "stdout",
     "output_type": "stream",
     "text": [
      "(1123, 500)\n",
      "min:  0.0 \n",
      " mean:  0.006158128129215552 \n",
      " max:  1.0\n"
     ]
    }
   ],
   "source": [
    "# Learn vocabulary and idf, return term-document matrix.\n",
    "# return an array;our predictor\n",
    "tfidf_X = tfidf.fit_transform(df_traintest['response']).toarray()\n",
    "\n",
    "# take a look at the output\n",
    "print(tfidf_X.shape)\n",
    "\n",
    "print(\"min: \" , np.min(tfidf_X), '\\n',\n",
    "      \"mean: \", np.mean(tfidf_X), '\\n',\n",
    "      \"max: \",  np.max(tfidf_X))"
   ]
  },
  {
   "cell_type": "code",
   "execution_count": 9,
   "metadata": {
    "slideshow": {
     "slide_type": "fragment"
    }
   },
   "outputs": [
    {
     "data": {
      "text/html": [
       "<div>\n",
       "<style scoped>\n",
       "    .dataframe tbody tr th:only-of-type {\n",
       "        vertical-align: middle;\n",
       "    }\n",
       "\n",
       "    .dataframe tbody tr th {\n",
       "        vertical-align: top;\n",
       "    }\n",
       "\n",
       "    .dataframe thead th {\n",
       "        text-align: right;\n",
       "    }\n",
       "</style>\n",
       "<table border=\"1\" class=\"dataframe\">\n",
       "  <thead>\n",
       "    <tr style=\"text-align: right;\">\n",
       "      <th></th>\n",
       "      <th>token</th>\n",
       "      <th>weight</th>\n",
       "    </tr>\n",
       "  </thead>\n",
       "  <tbody>\n",
       "    <tr>\n",
       "      <th>99</th>\n",
       "      <td>come</td>\n",
       "      <td>6.638355</td>\n",
       "    </tr>\n",
       "    <tr>\n",
       "      <th>182</th>\n",
       "      <td>format</td>\n",
       "      <td>6.638355</td>\n",
       "    </tr>\n",
       "    <tr>\n",
       "      <th>91</th>\n",
       "      <td>clean</td>\n",
       "      <td>6.415211</td>\n",
       "    </tr>\n",
       "    <tr>\n",
       "      <th>431</th>\n",
       "      <td>then</td>\n",
       "      <td>6.415211</td>\n",
       "    </tr>\n",
       "    <tr>\n",
       "      <th>71</th>\n",
       "      <td>believe</td>\n",
       "      <td>6.415211</td>\n",
       "    </tr>\n",
       "  </tbody>\n",
       "</table>\n",
       "</div>"
      ],
      "text/plain": [
       "       token    weight\n",
       "99      come  6.638355\n",
       "182   format  6.638355\n",
       "91     clean  6.415211\n",
       "431     then  6.415211\n",
       "71   believe  6.415211"
      ]
     },
     "execution_count": 9,
     "metadata": {},
     "output_type": "execute_result"
    }
   ],
   "source": [
    "## get IDF to visuzlize\n",
    "idf = tfidf.idf_\n",
    "rr = dict(zip(tfidf.fit(df_traintest['response']).get_feature_names(), idf))\n",
    "\n",
    "token_weight = pd.DataFrame.from_dict(rr, orient='index').reset_index()\n",
    "token_weight.columns=('token','weight')\n",
    "token_weight = token_weight.sort_values(by='weight', ascending=False)\n",
    "token_weight.head() "
   ]
  },
  {
   "cell_type": "code",
   "execution_count": 10,
   "metadata": {
    "slideshow": {
     "slide_type": "fragment"
    }
   },
   "outputs": [
    {
     "data": {
      "image/png": "[encoded data removed]",
      "text/plain": [
       "<Figure size 1080x360 with 1 Axes>"
      ]
     },
     "metadata": {
      "needs_background": "light"
     },
     "output_type": "display_data"
    }
   ],
   "source": [
    "sns.barplot(x='token', \n",
    "            y='weight', \n",
    "            data=token_weight[0:10], \n",
    "            color=\"gray\")            \n",
    "plt.title(\"Inverse Document Frequency(IDF) per token\")\n",
    "fig = plt.gcf()\n",
    "fig.set_size_inches(15,5);"
   ]
  },
  {
   "cell_type": "markdown",
   "metadata": {
    "slideshow": {
     "slide_type": "fragment"
    }
   },
   "source": [
    "Step 3: Extract outcome variable"
   ]
  },
  {
   "cell_type": "code",
   "execution_count": 11,
   "metadata": {
    "slideshow": {
     "slide_type": "fragment"
    }
   },
   "outputs": [
    {
     "data": {
      "text/plain": [
       "array([1, 0, 0, 1, 1])"
      ]
     },
     "execution_count": 11,
     "metadata": {},
     "output_type": "execute_result"
    }
   ],
   "source": [
    "# specify outcome variable\n",
    "tfidf_Y = np.array(df_traintest['most_least'])\n",
    "tfidf_Y[0:5]"
   ]
  },
  {
   "cell_type": "markdown",
   "metadata": {
    "slideshow": {
     "slide_type": "slide"
    }
   },
   "source": [
    "## Data Partitioning & Feature Selection\n",
    "\n",
    "80/20 split"
   ]
  },
  {
   "cell_type": "markdown",
   "metadata": {
    "slideshow": {
     "slide_type": "fragment"
    }
   },
   "source": [
    "We're going to be looking at the ability of using the text responses to predict whether or not it was something someone liked most or liked least."
   ]
  },
  {
   "cell_type": "markdown",
   "metadata": {
    "slideshow": {
     "slide_type": "fragment"
    }
   },
   "source": [
    "Step 4: Determine split in data."
   ]
  },
  {
   "cell_type": "code",
   "execution_count": 12,
   "metadata": {
    "scrolled": true,
    "slideshow": {
     "slide_type": "fragment"
    }
   },
   "outputs": [
    {
     "name": "stdout",
     "output_type": "stream",
     "text": [
      "898 225\n"
     ]
    }
   ],
   "source": [
    "# specify training and test\n",
    "num_training = int(len(df_traintest)*0.8)\n",
    "num_testing = len(df_traintest)-num_training\n",
    "\n",
    "print(num_training, num_testing)"
   ]
  },
  {
   "cell_type": "markdown",
   "metadata": {
    "slideshow": {
     "slide_type": "fragment"
    }
   },
   "source": [
    "Step 5: Split (partition) the data."
   ]
  },
  {
   "cell_type": "code",
   "execution_count": 14,
   "metadata": {
    "scrolled": true,
    "slideshow": {
     "slide_type": "fragment"
    }
   },
   "outputs": [],
   "source": [
    "# get data\n",
    "# because rows have been randomized previously\n",
    "tfidf_train_X = tfidf_X[:num_training]\n",
    "tfidf_train_Y = tfidf_Y[:num_training]\n",
    "tfidf_test_X = tfidf_X[num_training:]\n",
    "tfidf_test_Y = tfidf_Y[num_training:]"
   ]
  },
  {
   "cell_type": "code",
   "execution_count": 15,
   "metadata": {
    "slideshow": {
     "slide_type": "fragment"
    }
   },
   "outputs": [
    {
     "name": "stdout",
     "output_type": "stream",
     "text": [
      "(898, 500)\n"
     ]
    },
    {
     "data": {
      "text/plain": [
       "array([[0.        , 0.        , 0.        , ..., 0.        , 0.        ,\n",
       "        0.        ],\n",
       "       [0.        , 0.        , 0.        , ..., 0.        , 0.        ,\n",
       "        0.        ],\n",
       "       [0.17477134, 0.        , 0.        , ..., 0.        , 0.        ,\n",
       "        0.        ],\n",
       "       ...,\n",
       "       [0.        , 0.        , 0.        , ..., 0.        , 0.        ,\n",
       "        0.        ],\n",
       "       [0.        , 0.        , 0.        , ..., 0.        , 0.        ,\n",
       "        0.        ],\n",
       "       [0.        , 0.        , 0.        , ..., 0.        , 0.        ,\n",
       "        0.        ]])"
      ]
     },
     "execution_count": 15,
     "metadata": {},
     "output_type": "execute_result"
    }
   ],
   "source": [
    "# take a look at the data we're using\n",
    "print(tfidf_train_X.shape)\n",
    "tfidf_train_X"
   ]
  },
  {
   "cell_type": "markdown",
   "metadata": {
    "slideshow": {
     "slide_type": "slide"
    }
   },
   "source": [
    "## Model"
   ]
  },
  {
   "cell_type": "markdown",
   "metadata": {
    "slideshow": {
     "slide_type": "fragment"
    }
   },
   "source": [
    "### SVM: Support Vector Machines\n",
    "\n",
    "- simple & interpretable machine learning model\n",
    "- based in linear regression\n",
    "- classification task\n",
    "- supervized\n",
    "    - input: labeled training data\n",
    "    - model determines hyperplane that best discriminates between categories"
   ]
  },
  {
   "cell_type": "markdown",
   "metadata": {
    "slideshow": {
     "slide_type": "slide"
    }
   },
   "source": [
    "### SVM: Tuning Parameters\n",
    "- **regularization** parameter\n",
    "    - can determine how this line is drawn\n",
    "    - can increase accuracy of prediction\n",
    "    - can lead to overfitting of the data\n",
    "- **kernel** parameter\n",
    "    - specifies how to model & transform data\n",
    "    "
   ]
  },
  {
   "cell_type": "markdown",
   "metadata": {
    "slideshow": {
     "slide_type": "notes"
    }
   },
   "source": [
    "For more reading on SVMs using `sklearn`: https://scikit-learn.org/stable/modules/svm.html"
   ]
  },
  {
   "cell_type": "markdown",
   "metadata": {
    "slideshow": {
     "slide_type": "slide"
    }
   },
   "source": [
    "### Model Generation\n",
    "    "
   ]
  },
  {
   "cell_type": "markdown",
   "metadata": {
    "slideshow": {
     "slide_type": "fragment"
    }
   },
   "source": [
    "Step 6: Generate and train the model."
   ]
  },
  {
   "cell_type": "code",
   "execution_count": 16,
   "metadata": {
    "slideshow": {
     "slide_type": "fragment"
    }
   },
   "outputs": [],
   "source": [
    "# uncomment to read documentation for model\n",
    "SVC?"
   ]
  },
  {
   "cell_type": "code",
   "execution_count": 17,
   "metadata": {
    "slideshow": {
     "slide_type": "fragment"
    }
   },
   "outputs": [],
   "source": [
    "# function we'll use to run the model\n",
    "def train_SVM(X, Y, kernel='linear'):\n",
    "    model = SVC(kernel=kernel)\n",
    "    model.fit(X, Y)\n",
    "    return model"
   ]
  },
  {
   "cell_type": "code",
   "execution_count": 18,
   "metadata": {
    "slideshow": {
     "slide_type": "fragment"
    }
   },
   "outputs": [
    {
     "data": {
      "text/plain": [
       "sklearn.svm.classes.SVC"
      ]
     },
     "execution_count": 18,
     "metadata": {},
     "output_type": "execute_result"
    }
   ],
   "source": [
    "# train model\n",
    "svm_model = train_SVM(tfidf_train_X, tfidf_train_Y)\n",
    "type(svm_model)"
   ]
  },
  {
   "cell_type": "markdown",
   "metadata": {
    "slideshow": {
     "slide_type": "fragment"
    }
   },
   "source": [
    "### Training Data"
   ]
  },
  {
   "cell_type": "markdown",
   "metadata": {
    "slideshow": {
     "slide_type": "fragment"
    }
   },
   "source": [
    "Step 7: Predict in the training data"
   ]
  },
  {
   "cell_type": "code",
   "execution_count": 19,
   "metadata": {
    "slideshow": {
     "slide_type": "fragment"
    }
   },
   "outputs": [
    {
     "name": "stdout",
     "output_type": "stream",
     "text": [
      "[1 0 0 1 1]\n"
     ]
    },
    {
     "data": {
      "text/plain": [
       "898"
      ]
     },
     "execution_count": 19,
     "metadata": {},
     "output_type": "execute_result"
    }
   ],
   "source": [
    "# predict on training\n",
    "df_predicted_train_Y = svm_model.predict(tfidf_train_X)\n",
    "print(df_predicted_train_Y[0:5])\n",
    "len(df_predicted_train_Y)"
   ]
  },
  {
   "cell_type": "code",
   "execution_count": 20,
   "metadata": {
    "slideshow": {
     "slide_type": "fragment"
    }
   },
   "outputs": [
    {
     "data": {
      "text/plain": [
       "1    490\n",
       "0    408\n",
       "dtype: int64"
      ]
     },
     "execution_count": 20,
     "metadata": {},
     "output_type": "execute_result"
    }
   ],
   "source": [
    "# see how many were predicted most vs. least\n",
    "pd.Series(df_predicted_train_Y).value_counts()"
   ]
  },
  {
   "cell_type": "markdown",
   "metadata": {
    "slideshow": {
     "slide_type": "fragment"
    }
   },
   "source": [
    "### Testing Data"
   ]
  },
  {
   "cell_type": "markdown",
   "metadata": {
    "slideshow": {
     "slide_type": "-"
    }
   },
   "source": [
    "Step 8: Predict in the testing data"
   ]
  },
  {
   "cell_type": "code",
   "execution_count": 21,
   "metadata": {
    "slideshow": {
     "slide_type": "fragment"
    }
   },
   "outputs": [
    {
     "name": "stdout",
     "output_type": "stream",
     "text": [
      "[0 1 1 1 1]\n"
     ]
    },
    {
     "data": {
      "text/plain": [
       "225"
      ]
     },
     "execution_count": 21,
     "metadata": {},
     "output_type": "execute_result"
    }
   ],
   "source": [
    "# predict on training\n",
    "df_predicted_test_Y = svm_model.predict(tfidf_test_X)\n",
    "print(df_predicted_test_Y[0:5])\n",
    "len(df_predicted_test_Y)"
   ]
  },
  {
   "cell_type": "code",
   "execution_count": 22,
   "metadata": {
    "slideshow": {
     "slide_type": "fragment"
    }
   },
   "outputs": [
    {
     "data": {
      "text/plain": [
       "1    122\n",
       "0    103\n",
       "dtype: int64"
      ]
     },
     "execution_count": 22,
     "metadata": {},
     "output_type": "execute_result"
    }
   ],
   "source": [
    "# see how many were predicted most vs. least\n",
    "pd.Series(df_predicted_test_Y).value_counts()"
   ]
  },
  {
   "cell_type": "markdown",
   "metadata": {
    "slideshow": {
     "slide_type": "slide"
    }
   },
   "source": [
    "## Accuracy Assessment\n",
    "\n",
    "- RMSE (continuous)\n",
    "- Accuracy, Sensitivity, Specificity, AUC\n",
    "    - TP, TN, FP, FN"
   ]
  },
  {
   "cell_type": "markdown",
   "metadata": {
    "slideshow": {
     "slide_type": "fragment"
    }
   },
   "source": [
    "**Accuracy** - What % were predicted correctly?  \n",
    "**Sensitivity (Recall)** - Of those that were positives, what % were predicted to be positive?  ; $\\frac {TP}{(TP + FN)}$  \n",
    "**Specificity** - Of those that were actually negatives, what % were predicted to be negative?  $\\frac {TN}{(TN + FP)}$"
   ]
  },
  {
   "cell_type": "markdown",
   "metadata": {
    "slideshow": {
     "slide_type": "fragment"
    }
   },
   "source": [
    "**Precision (Positive Predictive Value, PPV)** = $\\frac {TP}{(TP + FP)}$\n",
    "\n",
    "- probability that predicted positive truly is positive"
   ]
  },
  {
   "cell_type": "markdown",
   "metadata": {
    "slideshow": {
     "slide_type": "slide"
    }
   },
   "source": [
    "### Training Data"
   ]
  },
  {
   "cell_type": "markdown",
   "metadata": {
    "slideshow": {
     "slide_type": "-"
    }
   },
   "source": [
    "Step 9: Assess accuracy in training data"
   ]
  },
  {
   "cell_type": "code",
   "execution_count": 23,
   "metadata": {
    "scrolled": true
   },
   "outputs": [
    {
     "name": "stdout",
     "output_type": "stream",
     "text": [
      "             precision    recall  f1-score   support\n",
      "\n",
      "          0       0.94      0.90      0.92       425\n",
      "          1       0.91      0.95      0.93       473\n",
      "\n",
      "avg / total       0.93      0.93      0.93       898\n",
      "\n"
     ]
    }
   ],
   "source": [
    "print(classification_report(tfidf_train_Y, df_predicted_train_Y))"
   ]
  },
  {
   "cell_type": "markdown",
   "metadata": {
    "slideshow": {
     "slide_type": "fragment"
    }
   },
   "source": [
    "**support** - the number of occurrences of each class  \n",
    "**precision (PPV)** - ability of the classifier not to label a positive sample as negative  \n",
    "**recall (sensitivity)** - ability of the classifer to find all the positive samples\n"
   ]
  },
  {
   "cell_type": "markdown",
   "metadata": {
    "slideshow": {
     "slide_type": "fragment"
    }
   },
   "source": [
    "**f1-score** - weighted harmonic mean of the precision and recall; score reaches its best value at 1 and worst score at 0  \n",
    "**macro average** - averaging the unweighted mean per label  \n",
    "**weighted average** - averaging the support-weighted mean per label  \n",
    "**micro average** - averaging the total true positives, false negatives and false positives"
   ]
  },
  {
   "cell_type": "code",
   "execution_count": null,
   "metadata": {
    "scrolled": true,
    "slideshow": {
     "slide_type": "notes"
    }
   },
   "outputs": [],
   "source": [
    "# where 'support' comes from\n",
    "pd.Series(tfidf_train_Y).value_counts()"
   ]
  },
  {
   "cell_type": "markdown",
   "metadata": {
    "slideshow": {
     "slide_type": "slide"
    }
   },
   "source": [
    "### Testing Data"
   ]
  },
  {
   "cell_type": "markdown",
   "metadata": {
    "slideshow": {
     "slide_type": "-"
    }
   },
   "source": [
    "Step 10: Assess accuracy in testing data"
   ]
  },
  {
   "cell_type": "code",
   "execution_count": 24,
   "metadata": {
    "scrolled": true
   },
   "outputs": [
    {
     "name": "stdout",
     "output_type": "stream",
     "text": [
      "             precision    recall  f1-score   support\n",
      "\n",
      "          0       0.81      0.75      0.78       110\n",
      "          1       0.78      0.83      0.80       115\n",
      "\n",
      "avg / total       0.79      0.79      0.79       225\n",
      "\n"
     ]
    }
   ],
   "source": [
    "print(classification_report(tfidf_test_Y, df_predicted_test_Y))"
   ]
  },
  {
   "cell_type": "markdown",
   "metadata": {
    "slideshow": {
     "slide_type": "slide"
    }
   },
   "source": [
    "### Validation Data"
   ]
  },
  {
   "cell_type": "markdown",
   "metadata": {
    "slideshow": {
     "slide_type": "-"
    }
   },
   "source": [
    "Step 11: Assess accuracy in validation data"
   ]
  },
  {
   "cell_type": "code",
   "execution_count": 25,
   "metadata": {},
   "outputs": [
    {
     "data": {
      "text/html": [
       "<div>\n",
       "<style scoped>\n",
       "    .dataframe tbody tr th:only-of-type {\n",
       "        vertical-align: middle;\n",
       "    }\n",
       "\n",
       "    .dataframe tbody tr th {\n",
       "        vertical-align: top;\n",
       "    }\n",
       "\n",
       "    .dataframe thead th {\n",
       "        text-align: right;\n",
       "    }\n",
       "</style>\n",
       "<table border=\"1\" class=\"dataframe\">\n",
       "  <thead>\n",
       "    <tr style=\"text-align: right;\">\n",
       "      <th></th>\n",
       "      <th>response</th>\n",
       "      <th>most_least</th>\n",
       "      <th>quarter</th>\n",
       "    </tr>\n",
       "  </thead>\n",
       "  <tbody>\n",
       "    <tr>\n",
       "      <th>0</th>\n",
       "      <td>There isn't really anything I would change.</td>\n",
       "      <td>0</td>\n",
       "      <td>sp20</td>\n",
       "    </tr>\n",
       "    <tr>\n",
       "      <th>2</th>\n",
       "      <td>The first two assignments have been a bit tedi...</td>\n",
       "      <td>0</td>\n",
       "      <td>sp20</td>\n",
       "    </tr>\n",
       "    <tr>\n",
       "      <th>4</th>\n",
       "      <td>I love how the class is 1/2 programming and 1/...</td>\n",
       "      <td>1</td>\n",
       "      <td>sp20</td>\n",
       "    </tr>\n",
       "    <tr>\n",
       "      <th>5</th>\n",
       "      <td>I learn how to use python and  Manipulate data</td>\n",
       "      <td>0</td>\n",
       "      <td>sp20</td>\n",
       "    </tr>\n",
       "    <tr>\n",
       "      <th>8</th>\n",
       "      <td>Comprehension quiz questions are often unclear</td>\n",
       "      <td>0</td>\n",
       "      <td>sp20</td>\n",
       "    </tr>\n",
       "  </tbody>\n",
       "</table>\n",
       "</div>"
      ],
      "text/plain": [
       "                                            response  most_least quarter\n",
       "0       There isn't really anything I would change.            0    sp20\n",
       "2  The first two assignments have been a bit tedi...           0    sp20\n",
       "4  I love how the class is 1/2 programming and 1/...           1    sp20\n",
       "5     I learn how to use python and  Manipulate data           0    sp20\n",
       "8    Comprehension quiz questions are often unclear            0    sp20"
      ]
     },
     "execution_count": 25,
     "metadata": {},
     "output_type": "execute_result"
    }
   ],
   "source": [
    "df_validation.head()"
   ]
  },
  {
   "cell_type": "code",
   "execution_count": 26,
   "metadata": {
    "scrolled": true,
    "slideshow": {
     "slide_type": "fragment"
    }
   },
   "outputs": [
    {
     "name": "stdout",
     "output_type": "stream",
     "text": [
      "             precision    recall  f1-score   support\n",
      "\n",
      "          0       0.51      0.62      0.56       340\n",
      "          1       0.57      0.45      0.50       374\n",
      "\n",
      "avg / total       0.54      0.53      0.53       714\n",
      "\n"
     ]
    }
   ],
   "source": [
    "# the ground truth\n",
    "tfidf_vaidation_Y = np.array(df_validation['most_least'])\n",
    "\n",
    "# predicted values from class responses\n",
    "tfidf_validation_X = tfidf.fit_transform(df_validation['response']).toarray()\n",
    "df_predicted_validation_Y = svm_model.predict(tfidf_validation_X)\n",
    "\n",
    "# assess accuracy\n",
    "print(classification_report(tfidf_vaidation_Y, df_predicted_validation_Y))"
   ]
  },
  {
   "cell_type": "markdown",
   "metadata": {
    "slideshow": {
     "slide_type": "slide"
    }
   },
   "source": [
    "### Summary"
   ]
  },
  {
   "cell_type": "markdown",
   "metadata": {},
   "source": [
    "1. 80:20 Partition\n",
    "2. Specified TF-IDF as predictor and most/least (0,1) as outcome\n",
    "3. Trained SVM linear classifier\n",
    "4. Built model on Training data\n",
    "5. Predicted in training data and on testing data\n",
    "6. Assessed overall accuracy"
   ]
  }
 ],
 "metadata": {
  "celltoolbar": "Slideshow",
  "kernelspec": {
   "display_name": "Python 3",
   "language": "python",
   "name": "python3"
  },
  "language_info": {
   "codemirror_mode": {
    "name": "ipython",
    "version": 3
   },
   "file_extension": ".py",
   "mimetype": "text/x-python",
   "name": "python",
   "nbconvert_exporter": "python",
   "pygments_lexer": "ipython3",
   "version": "3.7.0"
  },
  "rise": {
   "scroll": true
  }
 },
 "nbformat": 4,
 "nbformat_minor": 2
}
